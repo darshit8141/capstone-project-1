{
  "nbformat": 4,
  "nbformat_minor": 0,
  "metadata": {
    "colab": {
      "provenance": [],
      "authorship_tag": "ABX9TyOJREJ/lZx25FJTYwisHJnf",
      "include_colab_link": true
    },
    "kernelspec": {
      "name": "python3",
      "display_name": "Python 3"
    },
    "language_info": {
      "name": "python"
    }
  },
  "cells": [
    {
      "cell_type": "markdown",
      "metadata": {
        "id": "view-in-github",
        "colab_type": "text"
      },
      "source": [
        "<a href=\"https://colab.research.google.com/github/darshit8141/capstone-project-1/blob/main/capstone1.ipynb\" target=\"_parent\"><img src=\"https://colab.research.google.com/assets/colab-badge.svg\" alt=\"Open In Colab\"/></a>"
      ]
    },
    {
      "cell_type": "markdown",
      "source": [
        "# **Capstone Project By Letsupgrade**"
      ],
      "metadata": {
        "id": "S-nezxPqP90C"
      }
    },
    {
      "cell_type": "markdown",
      "source": [
        "## **Problem Statement**"
      ],
      "metadata": {
        "id": "FqybPGGGQlQI"
      }
    },
    {
      "cell_type": "markdown",
      "source": [
        "## City Scan Image Classification"
      ],
      "metadata": {
        "id": "CZuAKczXQtkC"
      }
    },
    {
      "cell_type": "markdown",
      "source": [
        "### The dataset contains 1252 CT scans that are positive for SARS-COV-2 infection(Covid-19) and 1230 CT scans for patients non- infected by SARS-COV-2, 2482 CT scans in total. These data has been collected from real patients in hospitals from Sau Paulo,Brazil. The aim of this dataset is to encourage the research and development of artificial intelligent methods which are able to identify if a person is infected by SARS-COV-2 through the analysis of his/her CT scans."
      ],
      "metadata": {
        "id": "2B1Z55n5Q3e0"
      }
    },
    {
      "cell_type": "markdown",
      "source": [
        "## **Importing useful libraries for our model**"
      ],
      "metadata": {
        "id": "Bvngq-adTb_4"
      }
    },
    {
      "cell_type": "markdown",
      "source": [],
      "metadata": {
        "id": "wlRYlVJtTUt0"
      }
    },
    {
      "cell_type": "code",
      "execution_count": null,
      "metadata": {
        "id": "iicjxKD2dYCs"
      },
      "outputs": [],
      "source": [
        "import pandas as pd\n",
        "import numpy as np\n",
        "import os\n",
        "from tensorflow import keras\n",
        "from tensorflow.keras import layers\n",
        "from tensorflow.keras.preprocessing.image import ImageDataGenerator\n",
        "from sklearn.model_selection import train_test_split\n",
        "\n"
      ]
    },
    {
      "cell_type": "code",
      "source": [
        "# Loading data\n",
        "dataset = r\"E:\\capstone\""
      ],
      "metadata": {
        "id": "kos2WndrhJu0"
      },
      "execution_count": null,
      "outputs": []
    },
    {
      "cell_type": "code",
      "source": [
        "# Setting image size and batch size\n",
        "img_size = (180,180)\n",
        "batch_size = 32"
      ],
      "metadata": {
        "id": "HysvA5iLhXGd"
      },
      "execution_count": null,
      "outputs": []
    },
    {
      "cell_type": "markdown",
      "source": [
        "## **2-The images are in different sizes so you have to take a fixed size on which you have to work**"
      ],
      "metadata": {
        "id": "-IO_dSitWLf4"
      }
    },
    {
      "cell_type": "markdown",
      "source": [
        "## **3-Do Dataaugmentation on it, mention atleast 5 args inside it.**"
      ],
      "metadata": {
        "id": "sR-84S1jWiBJ"
      }
    },
    {
      "cell_type": "markdown",
      "source": [],
      "metadata": {
        "id": "h931IzcYXCNG"
      }
    },
    {
      "cell_type": "code",
      "source": [
        "# Data augmentation\n",
        "train_datagen = ImageDataGenerator(\n",
        "    rescale = 1./255,\n",
        "    rotation_range = 20,\n",
        "    width_shift_range = 0.2,\n",
        "    height_shift_range = 0.2,\n",
        "    shear_range = 0.2,\n",
        "    zoom_range = 0.2,\n",
        "    horizontal_flip = True,\n",
        "    fill_mode = 'nearest'\n",
        ")\n",
        "\n",
        "val_datagen = ImageDataGenerator(rescale=1./255)"
      ],
      "metadata": {
        "id": "n-YTzxwvhuqq"
      },
      "execution_count": null,
      "outputs": []
    },
    {
      "cell_type": "code",
      "source": [
        "# Load the list of image files\n",
        "covid_images= [os.path.join(dataset,'COVID', img) for image in os.listdir(os.path.join(dataset,'COVID',))]\n",
        "covid_images= [os.path.join(dataset,'non-COVID', img) for image in os.listdir(os.path.join(dataset,'non-COVID',))]\n"
      ],
      "metadata": {
        "id": "NfOTamGMjNeH"
      },
      "execution_count": null,
      "outputs": []
    },
    {
      "cell_type": "code",
      "source": [
        "# Split the data into train and validation sets\n",
        "covid_train, covid_val = train_test_split(covid_images,test_size= 0.2, random_state=3)\n",
        "non_covid_train, non_covid_val = train_test_split(non_covid_images,test_size= 0.2, random_state=3)\n"
      ],
      "metadata": {
        "id": "2yhtQbDWkC7S"
      },
      "execution_count": null,
      "outputs": []
    },
    {
      "cell_type": "code",
      "source": [
        "train_df = pd.DataFrame({'filename': covid_train + non_covid_train, 'class': ['covid']*len(covid_train) + ['non-covid']*len(non_covid_train) })\n",
        "val_df = pd.DataFrame({'filename': covid_val + non_covid_val, 'class': ['covid']*len(covid_val) + ['non-covid']*len(non_covid_val) })"
      ],
      "metadata": {
        "id": "HNHdOv-6lF1Z"
      },
      "execution_count": null,
      "outputs": []
    },
    {
      "cell_type": "markdown",
      "source": [
        "## **Here in the place of 'Target_size' we are resizing the images that can fix all the image sizes into the same sizes**"
      ],
      "metadata": {
        "id": "Vzkdcv8gXMf4"
      }
    },
    {
      "cell_type": "markdown",
      "source": [],
      "metadata": {
        "id": "gN5MxXrDXx2_"
      }
    },
    {
      "cell_type": "code",
      "source": [
        "# Create train and validation generators\n",
        "train_generator = train_datagen.flow_from_dataframe(\n",
        "    train_df,\n",
        "    x_col= 'filename',\n",
        "    y_col= 'class',\n",
        "    target_size = img_size  # here in the place of target_size we are resizing the images that can fix all the image sizes into the same sizes\n",
        "    batch_size = batch_size\n",
        "    class_mode = 'binary',\n",
        "    )\n",
        "\n",
        "\n",
        "val_generator = val_datagen.flow_from_dataframe(\n",
        "    val_df,\n",
        "    x_col= 'filename',\n",
        "    y_col= 'class',\n",
        "    target_size = img_size  # here in the place of target_size we are resizing the images that can fix all the image sizes into the same sizes\n",
        "    batch_size = batch_size\n",
        "    class_mode = 'binary',\n",
        "    )"
      ],
      "metadata": {
        "id": "1yZS2V9fmvkY"
      },
      "execution_count": null,
      "outputs": []
    },
    {
      "cell_type": "markdown",
      "source": [
        "Found 1983 validated image filenames belonging to 2-classes.\n",
        "\n",
        "  Found 497 validated image filenames belonging to 2-classes."
      ],
      "metadata": {
        "id": "LtIuTObVX9wC"
      }
    },
    {
      "cell_type": "code",
      "source": [
        "# Importing libraries which is used to build architecture\n",
        "from tensorflow.keras.applications import ResNet50\n",
        "from tensorflow.keras import layers, models, callbacks"
      ],
      "metadata": {
        "id": "tPrQ9K35o3Le"
      },
      "execution_count": null,
      "outputs": []
    },
    {
      "cell_type": "markdown",
      "source": [
        "### **4-Train model by using only resnet from resnet you can pick any layer model like - ResNet-18, ResNet-34, ResNet-50, ResNet-101 ..**"
      ],
      "metadata": {
        "id": "bD9kXNwyb4Ox"
      }
    },
    {
      "cell_type": "markdown",
      "source": [
        "### **Here I choose ResNet-50.**"
      ],
      "metadata": {
        "id": "x8rFtIvWbC0Q"
      }
    },
    {
      "cell_type": "code",
      "source": [
        "res50 = ResNet50(input_shape = (180, 180, 3), weights = 'imagenet', include_top = False)"
      ],
      "metadata": {
        "id": "9p6UX_TuRNmK"
      },
      "execution_count": null,
      "outputs": []
    },
    {
      "cell_type": "code",
      "source": [
        "for layer in vgg16.layers:\n",
        "  layer.trainable = False"
      ],
      "metadata": {
        "id": "Up5XgTWdRqsJ"
      },
      "execution_count": null,
      "outputs": []
    },
    {
      "cell_type": "code",
      "source": [
        "from keras.layers import Dense, Conv2D, MaPool2D, Flatten, Droupout, BatchNormalization"
      ],
      "metadata": {
        "id": "5LJICscyR8d_"
      },
      "execution_count": null,
      "outputs": []
    },
    {
      "cell_type": "code",
      "source": [
        "# Fully connected layers\n",
        "flatten = Flatten()(res50.output)\n",
        "dense = Dense(512, activation = 'relu')(flatten)\n",
        "dense = Droupout(o.5)(dense)\n",
        "dense = Dense(128, activation = 'relu')(dense)\n",
        "dense = Droupout(o.3)(dense)\n",
        "\n",
        "# Output layer\n",
        "prediction = Dense(1, activation = 'sigmoid', dense)\n"
      ],
      "metadata": {
        "id": "ear1wymIS06N"
      },
      "execution_count": null,
      "outputs": []
    },
    {
      "cell_type": "code",
      "source": [
        "from keras.models import Sequential, Model"
      ],
      "metadata": {
        "id": "NLTHSeeaUIQR"
      },
      "execution_count": null,
      "outputs": []
    },
    {
      "cell_type": "code",
      "source": [
        "model1 = Model(inputs = res50.input, outputs = prediction)"
      ],
      "metadata": {
        "id": "j5UOqSjGUX1i"
      },
      "execution_count": null,
      "outputs": []
    },
    {
      "cell_type": "code",
      "source": [
        "# Summary of model\n",
        "model1.summary()"
      ],
      "metadata": {
        "id": "ZzNyep0oU68w"
      },
      "execution_count": null,
      "outputs": []
    },
    {
      "cell_type": "code",
      "source": [
        "from tensorflow.keras.callbacks import EarlyStopping\n"
      ],
      "metadata": {
        "id": "UXMxiR16VKiN"
      },
      "execution_count": null,
      "outputs": []
    },
    {
      "cell_type": "code",
      "source": [
        "early_stopping = EarlyStopping(\n",
        "    monitor = 'val_loss',\n",
        "    patience = 3, # Numbers of epochs with no improvement after which training will be stopped\n",
        "    restore_best_weights = True\n",
        ")"
      ],
      "metadata": {
        "id": "jYTpGse-VY3m"
      },
      "execution_count": null,
      "outputs": []
    },
    {
      "cell_type": "code",
      "source": [
        "history1 = model1.fit(\n",
        "    train_generator,\n",
        "    epochs = 15,\n",
        "    validation_data = validation_generator,\n",
        "    callbacks = [early_stopping],\n",
        ")"
      ],
      "metadata": {
        "id": "_yw3crM_WHFB"
      },
      "execution_count": null,
      "outputs": []
    },
    {
      "cell_type": "markdown",
      "source": [
        "### **5-Do prediction and mention multiple perfomance metrics**"
      ],
      "metadata": {
        "id": "nOwgaVChcPVx"
      }
    },
    {
      "cell_type": "code",
      "source": [
        "test_results = model1.evaluate(validation_generator)\n",
        "print(f:\"Test Loss : {test_results[0]} Test Accuracy :{test_results[1]}\")"
      ],
      "metadata": {
        "id": "B2kATyBxWwFU"
      },
      "execution_count": null,
      "outputs": []
    },
    {
      "cell_type": "code",
      "source": [
        "from sklearn.metrics import accuracy_score, precision_score, recall_score, f1_score, confusion_matrix, classification_report\n",
        "y_true = validation_generator.classes # True classes\n",
        "y_pred_prob = model1.predict(validation_generator) # Predicted probablities\n",
        "\n",
        "# Convert probabilities to class labels\n",
        "y_pred = (y_pred_prob > 0.5).astype(int) # Adjust threshold as needed\n",
        "\n",
        "# Calculate metrics\n",
        "accuracy = acrracy_score(y_true , y_predy)\n",
        "precision = precision_score(y_true , y_predy)\n",
        "recall = recall_score(y_true , y_predy)\n",
        "f1 = f1_score(y_true , y_predy)\n",
        "\n",
        "# Confusion matrix\n",
        "conf_matrix = confusion_matrix(y_true , y_pred)\n",
        "\n",
        "\n",
        "print(\"validation Accuracy :\", accuracy)\n",
        "print(\"validation Precision :\", precision)\n",
        "print(\"validation Recall :\", recall)\n",
        "print(\"validation f1_score :\", f1)\n",
        "\n",
        "print(\"\\nConfusion Matrix :\")\n",
        "print(conf_matrix)"
      ],
      "metadata": {
        "id": "BNl5BDOmXtjh"
      },
      "execution_count": null,
      "outputs": []
    },
    {
      "cell_type": "markdown",
      "source": [
        "## **Here train accuracy = acurracy: 0.851**"
      ],
      "metadata": {
        "id": "RUGbkB1pclyl"
      }
    },
    {
      "cell_type": "markdown",
      "source": [
        "## **Here train accuracy = test acc: 0.8511**"
      ],
      "metadata": {
        "id": "0uqNsYa5dhGq"
      }
    },
    {
      "cell_type": "markdown",
      "source": [
        "### **After perfoming many attempts our model works with 85% accuracy it is fine to perform image classification.**"
      ],
      "metadata": {
        "id": "oeaBCnxodoFF"
      }
    },
    {
      "cell_type": "markdown",
      "source": [
        "## **Doing Prediction**"
      ],
      "metadata": {
        "id": "cmEBck7udla0"
      }
    },
    {
      "cell_type": "markdown",
      "source": [
        "### **Here I created a function that can follow the model architecture and predicts whether the CT scans belongs to Covid and Non-covid**"
      ],
      "metadata": {
        "id": "TGUZ1oLXdaSO"
      }
    },
    {
      "cell_type": "code",
      "source": [
        "import cv2\n",
        "import matplotlib.pyplot as plt\n",
        "def cov():\n",
        "\n",
        "  input_image_path = input()\n",
        "  input_image = cv2.imread(input_image_path)\n",
        "\n",
        "  plt.imshow(cv2.cvtcolor(input_image, cv2.COLOR_BGR2RGB))\n",
        "  plt.axis('off')\n",
        "  plt.show()\n",
        "\n",
        "  # cv2.imshow(\"Image\", input_image)\n",
        "\n",
        "  input_image_resized = cv2.resize(input_image (180,180))\n",
        "\n",
        "  input_image_scaled = input_image_resized/255\n",
        "\n",
        "  input_image_reshaped = np.reshape(input_image_scaled, [1,180,180,3])\n",
        "\n",
        "  input_prediction = model1.predict(input_image_reshaped)\n",
        "\n",
        "  print(input_prediction)\n",
        "  if input_prediction > 0.5:\n",
        "    print(\"Non-covid\")\n",
        "  else:\n",
        "    print(\"covid\")"
      ],
      "metadata": {
        "id": "61W5BI83KoYd"
      },
      "execution_count": null,
      "outputs": []
    },
    {
      "cell_type": "markdown",
      "source": [
        "## **Giving input as Covid scan image**"
      ],
      "metadata": {
        "id": "gtWEbfdiez_3"
      }
    },
    {
      "cell_type": "code",
      "source": [
        "# Calling a function\n",
        "cov()"
      ],
      "metadata": {
        "id": "bnVyCiYvOA4C"
      },
      "execution_count": null,
      "outputs": []
    },
    {
      "cell_type": "markdown",
      "source": [
        "## **It classifies as covid**"
      ],
      "metadata": {
        "id": "-Kjdl7dUfKTS"
      }
    },
    {
      "cell_type": "markdown",
      "source": [],
      "metadata": {
        "id": "g86_O_T9jcZ7"
      }
    },
    {
      "cell_type": "markdown",
      "source": [
        "## **Given input is Non-covid image**"
      ],
      "metadata": {
        "id": "MD5cuVP1jdGX"
      }
    },
    {
      "cell_type": "code",
      "source": [
        "# Calling a function\n",
        "cov()"
      ],
      "metadata": {
        "id": "7h3FDzXJOKVI"
      },
      "execution_count": null,
      "outputs": []
    },
    {
      "cell_type": "markdown",
      "source": [
        "## **It classifies as Non-covid**"
      ],
      "metadata": {
        "id": "Pe7tDZYnjs6g"
      }
    },
    {
      "cell_type": "markdown",
      "source": [
        "### **Saving the model for further use**"
      ],
      "metadata": {
        "id": "zRXGLmXYj2ii"
      }
    },
    {
      "cell_type": "code",
      "source": [
        "model1.save(\"Ct_Scan_Covid.h5\")"
      ],
      "metadata": {
        "id": "LvExSnPFOUom"
      },
      "execution_count": null,
      "outputs": []
    },
    {
      "cell_type": "code",
      "source": [
        "# Library to load the model\n",
        "from tensorflow.keras.models import load_model"
      ],
      "metadata": {
        "id": "mZjbqCH3Olqg"
      },
      "execution_count": null,
      "outputs": []
    },
    {
      "cell_type": "markdown",
      "source": [
        "## **Loading the model to check the saved model**"
      ],
      "metadata": {
        "id": "xH92j20akEww"
      }
    },
    {
      "cell_type": "code",
      "source": [
        "s_model = load_model1"
      ],
      "metadata": {
        "id": "oahkO9yLO0Wv"
      },
      "execution_count": null,
      "outputs": []
    },
    {
      "cell_type": "markdown",
      "source": [
        "## **Testing saved models that can predict real-world problems**"
      ],
      "metadata": {
        "id": "973yVKVjkvD9"
      }
    },
    {
      "cell_type": "code",
      "source": [
        "import cv2\n",
        "import matplotlib.pyplot as plt\n",
        "def saved_model():\n",
        "\n",
        "  input_image_path = input()\n",
        "  input_image = cv2.imread(input_image_path)\n",
        "\n",
        "  plt.imshow(cv2.cvtcolor(input_image, cv2.COLOR_BGR2RGB))\n",
        "  plt.axis('off')\n",
        "  plt.show()\n",
        "\n",
        "  # cv2.imshow(\"Image\", input_image)\n",
        "\n",
        "  input_image_resized = cv2.resize(input_image (180,180))\n",
        "\n",
        "  input_image_scaled = input_image_resized/255\n",
        "\n",
        "  input_image_reshaped = np.reshape(input_image_scaled, [1,180,180,3])\n",
        "\n",
        "  input_prediction = s_model.predict(input_image_reshaped)\n",
        "\n",
        "  print(input_prediction)\n",
        "  if input_prediction > 0.5:\n",
        "    print(\"Non-covid\")\n",
        "  else:\n",
        "    print(\"covid\")"
      ],
      "metadata": {
        "id": "E9ZisK3JPXoM"
      },
      "execution_count": null,
      "outputs": []
    },
    {
      "cell_type": "markdown",
      "source": [
        "# **Giving input as Non-covid scan image**"
      ],
      "metadata": {
        "id": "yo9yM4LWlsfd"
      }
    },
    {
      "cell_type": "code",
      "source": [
        "saved_model()"
      ],
      "metadata": {
        "id": "ExFXVLafQSdh"
      },
      "execution_count": null,
      "outputs": []
    },
    {
      "cell_type": "markdown",
      "source": [
        "## **It classifies as Non-covid**"
      ],
      "metadata": {
        "id": "3dNmZwkCmJ5m"
      }
    },
    {
      "cell_type": "markdown",
      "source": [
        "## **Finally our model working properly and classifies whether the CT Scan belongs to Covid or non covid**"
      ],
      "metadata": {
        "id": "Inc8ZaJwmTQA"
      }
    },
    {
      "cell_type": "markdown",
      "source": [],
      "metadata": {
        "id": "A-1pvNdMnFRR"
      }
    },
    {
      "cell_type": "markdown",
      "source": [],
      "metadata": {
        "id": "IJRcqALLniet"
      }
    }
  ]
}